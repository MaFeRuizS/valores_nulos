{
 "cells": [
  {
   "cell_type": "code",
   "execution_count": 24,
   "metadata": {},
   "outputs": [],
   "source": [
    "import pandas as pd\n",
    "import numpy as np\n",
    "import matplotlib as plt"
   ]
  },
  {
   "cell_type": "code",
   "execution_count": 25,
   "metadata": {},
   "outputs": [
    {
     "data": {
      "text/html": [
       "<div>\n",
       "<style scoped>\n",
       "    .dataframe tbody tr th:only-of-type {\n",
       "        vertical-align: middle;\n",
       "    }\n",
       "\n",
       "    .dataframe tbody tr th {\n",
       "        vertical-align: top;\n",
       "    }\n",
       "\n",
       "    .dataframe thead th {\n",
       "        text-align: right;\n",
       "    }\n",
       "</style>\n",
       "<table border=\"1\" class=\"dataframe\">\n",
       "  <thead>\n",
       "    <tr style=\"text-align: right;\">\n",
       "      <th></th>\n",
       "      <th>indice_tiempo</th>\n",
       "      <th>ventas_precios_corrientes</th>\n",
       "      <th>ventas_precios_constantes</th>\n",
       "      <th>ventas_totales_canal_venta</th>\n",
       "      <th>salon_ventas</th>\n",
       "      <th>canales_on_line</th>\n",
       "      <th>ventas_totales_medio_pago</th>\n",
       "      <th>efectivo</th>\n",
       "      <th>tarjetas_debito</th>\n",
       "      <th>tarjetas_credito</th>\n",
       "      <th>...</th>\n",
       "      <th>almacen</th>\n",
       "      <th>panaderia</th>\n",
       "      <th>lacteos</th>\n",
       "      <th>carnes</th>\n",
       "      <th>verduleria_fruteria</th>\n",
       "      <th>alimentos_preparados_rotiseria</th>\n",
       "      <th>articulos_limpieza_perfumeria</th>\n",
       "      <th>indumentaria_calzado_textiles_hogar</th>\n",
       "      <th>electronicos_articulos_hogar</th>\n",
       "      <th>otros</th>\n",
       "    </tr>\n",
       "  </thead>\n",
       "  <tbody>\n",
       "    <tr>\n",
       "      <th>0</th>\n",
       "      <td>01/01/2017</td>\n",
       "      <td>27858.9</td>\n",
       "      <td>27477.3</td>\n",
       "      <td>27858872.08</td>\n",
       "      <td>27591730.13</td>\n",
       "      <td>267141.956</td>\n",
       "      <td>27858872.08</td>\n",
       "      <td>1.023010e+07</td>\n",
       "      <td>6864575.384</td>\n",
       "      <td>9047205.493</td>\n",
       "      <td>...</td>\n",
       "      <td>6705475.318</td>\n",
       "      <td>9.459063e+05</td>\n",
       "      <td>2880656.169</td>\n",
       "      <td>2606192.942</td>\n",
       "      <td>1.050314e+06</td>\n",
       "      <td>340777.3882</td>\n",
       "      <td>4397543.671</td>\n",
       "      <td>772371.8476</td>\n",
       "      <td>1838507.096</td>\n",
       "      <td>2806660.309</td>\n",
       "    </tr>\n",
       "    <tr>\n",
       "      <th>1</th>\n",
       "      <td>01/02/2017</td>\n",
       "      <td>25994.2</td>\n",
       "      <td>25223.4</td>\n",
       "      <td>25994200.17</td>\n",
       "      <td>25749179.40</td>\n",
       "      <td>245020.769</td>\n",
       "      <td>25994200.17</td>\n",
       "      <td>9.719067e+06</td>\n",
       "      <td>6438494.011</td>\n",
       "      <td>8309150.301</td>\n",
       "      <td>...</td>\n",
       "      <td>6576624.803</td>\n",
       "      <td>9.256186e+05</td>\n",
       "      <td>2855639.900</td>\n",
       "      <td>2600083.591</td>\n",
       "      <td>1.026167e+06</td>\n",
       "      <td>328288.6951</td>\n",
       "      <td>4053283.771</td>\n",
       "      <td>672290.5165</td>\n",
       "      <td>1257661.903</td>\n",
       "      <td>2354084.901</td>\n",
       "    </tr>\n",
       "    <tr>\n",
       "      <th>2</th>\n",
       "      <td>01/03/2017</td>\n",
       "      <td>27780.0</td>\n",
       "      <td>26334.3</td>\n",
       "      <td>27780006.52</td>\n",
       "      <td>27472228.72</td>\n",
       "      <td>307777.804</td>\n",
       "      <td>27780006.52</td>\n",
       "      <td>1.024444e+07</td>\n",
       "      <td>6908522.962</td>\n",
       "      <td>8845010.494</td>\n",
       "      <td>...</td>\n",
       "      <td>7437264.174</td>\n",
       "      <td>1.016148e+06</td>\n",
       "      <td>3188259.169</td>\n",
       "      <td>2824976.726</td>\n",
       "      <td>1.075526e+06</td>\n",
       "      <td>353335.1548</td>\n",
       "      <td>4354197.611</td>\n",
       "      <td>667696.6653</td>\n",
       "      <td>1305674.917</td>\n",
       "      <td>2266189.277</td>\n",
       "    </tr>\n",
       "    <tr>\n",
       "      <th>3</th>\n",
       "      <td>01/04/2017</td>\n",
       "      <td>29134.3</td>\n",
       "      <td>27045.9</td>\n",
       "      <td>29134272.22</td>\n",
       "      <td>28827479.49</td>\n",
       "      <td>306792.733</td>\n",
       "      <td>29134272.22</td>\n",
       "      <td>1.031263e+07</td>\n",
       "      <td>7454251.800</td>\n",
       "      <td>9458166.682</td>\n",
       "      <td>...</td>\n",
       "      <td>8211244.093</td>\n",
       "      <td>1.132396e+06</td>\n",
       "      <td>3257140.159</td>\n",
       "      <td>3006158.760</td>\n",
       "      <td>1.037213e+06</td>\n",
       "      <td>359694.4537</td>\n",
       "      <td>4355706.646</td>\n",
       "      <td>838948.2458</td>\n",
       "      <td>1535726.345</td>\n",
       "      <td>2146755.887</td>\n",
       "    </tr>\n",
       "    <tr>\n",
       "      <th>4</th>\n",
       "      <td>01/05/2017</td>\n",
       "      <td>27969.0</td>\n",
       "      <td>25631.9</td>\n",
       "      <td>27969004.68</td>\n",
       "      <td>27569311.41</td>\n",
       "      <td>399693.262</td>\n",
       "      <td>27969004.68</td>\n",
       "      <td>1.014761e+07</td>\n",
       "      <td>6735747.319</td>\n",
       "      <td>9220929.862</td>\n",
       "      <td>...</td>\n",
       "      <td>7651058.084</td>\n",
       "      <td>1.033082e+06</td>\n",
       "      <td>3232635.767</td>\n",
       "      <td>2799142.123</td>\n",
       "      <td>9.826512e+05</td>\n",
       "      <td>336568.0085</td>\n",
       "      <td>4206101.605</td>\n",
       "      <td>915895.1498</td>\n",
       "      <td>1824462.036</td>\n",
       "      <td>2117971.483</td>\n",
       "    </tr>\n",
       "  </tbody>\n",
       "</table>\n",
       "<p>5 rows × 24 columns</p>\n",
       "</div>"
      ],
      "text/plain": [
       "  indice_tiempo  ventas_precios_corrientes  ventas_precios_constantes  \\\n",
       "0    01/01/2017                    27858.9                    27477.3   \n",
       "1    01/02/2017                    25994.2                    25223.4   \n",
       "2    01/03/2017                    27780.0                    26334.3   \n",
       "3    01/04/2017                    29134.3                    27045.9   \n",
       "4    01/05/2017                    27969.0                    25631.9   \n",
       "\n",
       "   ventas_totales_canal_venta  salon_ventas  canales_on_line  \\\n",
       "0                 27858872.08   27591730.13       267141.956   \n",
       "1                 25994200.17   25749179.40       245020.769   \n",
       "2                 27780006.52   27472228.72       307777.804   \n",
       "3                 29134272.22   28827479.49       306792.733   \n",
       "4                 27969004.68   27569311.41       399693.262   \n",
       "\n",
       "   ventas_totales_medio_pago      efectivo  tarjetas_debito  tarjetas_credito  \\\n",
       "0                27858872.08  1.023010e+07      6864575.384       9047205.493   \n",
       "1                25994200.17  9.719067e+06      6438494.011       8309150.301   \n",
       "2                27780006.52  1.024444e+07      6908522.962       8845010.494   \n",
       "3                29134272.22  1.031263e+07      7454251.800       9458166.682   \n",
       "4                27969004.68  1.014761e+07      6735747.319       9220929.862   \n",
       "\n",
       "   ...      almacen     panaderia      lacteos       carnes  \\\n",
       "0  ...  6705475.318  9.459063e+05  2880656.169  2606192.942   \n",
       "1  ...  6576624.803  9.256186e+05  2855639.900  2600083.591   \n",
       "2  ...  7437264.174  1.016148e+06  3188259.169  2824976.726   \n",
       "3  ...  8211244.093  1.132396e+06  3257140.159  3006158.760   \n",
       "4  ...  7651058.084  1.033082e+06  3232635.767  2799142.123   \n",
       "\n",
       "   verduleria_fruteria  alimentos_preparados_rotiseria  \\\n",
       "0         1.050314e+06                     340777.3882   \n",
       "1         1.026167e+06                     328288.6951   \n",
       "2         1.075526e+06                     353335.1548   \n",
       "3         1.037213e+06                     359694.4537   \n",
       "4         9.826512e+05                     336568.0085   \n",
       "\n",
       "   articulos_limpieza_perfumeria  indumentaria_calzado_textiles_hogar  \\\n",
       "0                    4397543.671                          772371.8476   \n",
       "1                    4053283.771                          672290.5165   \n",
       "2                    4354197.611                          667696.6653   \n",
       "3                    4355706.646                          838948.2458   \n",
       "4                    4206101.605                          915895.1498   \n",
       "\n",
       "   electronicos_articulos_hogar        otros  \n",
       "0                   1838507.096  2806660.309  \n",
       "1                   1257661.903  2354084.901  \n",
       "2                   1305674.917  2266189.277  \n",
       "3                   1535726.345  2146755.887  \n",
       "4                   1824462.036  2117971.483  \n",
       "\n",
       "[5 rows x 24 columns]"
      ]
     },
     "execution_count": 25,
     "metadata": {},
     "output_type": "execute_result"
    }
   ],
   "source": [
    "#Carga desde un archivo .csv sin índice\n",
    "data = pd.read_csv('Ventas_totales.csv')\n",
    "data.head(5)"
   ]
  },
  {
   "cell_type": "code",
   "execution_count": 49,
   "metadata": {},
   "outputs": [
    {
     "data": {
      "text/html": [
       "<div>\n",
       "<style scoped>\n",
       "    .dataframe tbody tr th:only-of-type {\n",
       "        vertical-align: middle;\n",
       "    }\n",
       "\n",
       "    .dataframe tbody tr th {\n",
       "        vertical-align: top;\n",
       "    }\n",
       "\n",
       "    .dataframe thead th {\n",
       "        text-align: right;\n",
       "    }\n",
       "</style>\n",
       "<table border=\"1\" class=\"dataframe\">\n",
       "  <thead>\n",
       "    <tr style=\"text-align: right;\">\n",
       "      <th></th>\n",
       "      <th>almacen</th>\n",
       "      <th>panaderia</th>\n",
       "      <th>lacteos</th>\n",
       "      <th>carnes</th>\n",
       "      <th>verduleria_fruteria</th>\n",
       "    </tr>\n",
       "  </thead>\n",
       "  <tbody>\n",
       "    <tr>\n",
       "      <th>0</th>\n",
       "      <td>6.705475e+06</td>\n",
       "      <td>9.459063e+05</td>\n",
       "      <td>2.880656e+06</td>\n",
       "      <td>2.606193e+06</td>\n",
       "      <td>1.050314e+06</td>\n",
       "    </tr>\n",
       "    <tr>\n",
       "      <th>1</th>\n",
       "      <td>6.576625e+06</td>\n",
       "      <td>9.256186e+05</td>\n",
       "      <td>2.855640e+06</td>\n",
       "      <td>2.600084e+06</td>\n",
       "      <td>1.026167e+06</td>\n",
       "    </tr>\n",
       "    <tr>\n",
       "      <th>2</th>\n",
       "      <td>7.437264e+06</td>\n",
       "      <td>1.016148e+06</td>\n",
       "      <td>3.188259e+06</td>\n",
       "      <td>2.824977e+06</td>\n",
       "      <td>1.075526e+06</td>\n",
       "    </tr>\n",
       "    <tr>\n",
       "      <th>3</th>\n",
       "      <td>8.211244e+06</td>\n",
       "      <td>1.132396e+06</td>\n",
       "      <td>3.257140e+06</td>\n",
       "      <td>3.006159e+06</td>\n",
       "      <td>1.037213e+06</td>\n",
       "    </tr>\n",
       "    <tr>\n",
       "      <th>4</th>\n",
       "      <td>7.651058e+06</td>\n",
       "      <td>1.033082e+06</td>\n",
       "      <td>3.232636e+06</td>\n",
       "      <td>2.799142e+06</td>\n",
       "      <td>9.826512e+05</td>\n",
       "    </tr>\n",
       "    <tr>\n",
       "      <th>...</th>\n",
       "      <td>...</td>\n",
       "      <td>...</td>\n",
       "      <td>...</td>\n",
       "      <td>...</td>\n",
       "      <td>...</td>\n",
       "    </tr>\n",
       "    <tr>\n",
       "      <th>60</th>\n",
       "      <td>3.750517e+07</td>\n",
       "      <td>4.860318e+06</td>\n",
       "      <td>1.610477e+07</td>\n",
       "      <td>1.740849e+07</td>\n",
       "      <td>6.138441e+06</td>\n",
       "    </tr>\n",
       "    <tr>\n",
       "      <th>61</th>\n",
       "      <td>3.820979e+07</td>\n",
       "      <td>5.045920e+06</td>\n",
       "      <td>1.613982e+07</td>\n",
       "      <td>1.826074e+07</td>\n",
       "      <td>6.436028e+06</td>\n",
       "    </tr>\n",
       "    <tr>\n",
       "      <th>62</th>\n",
       "      <td>4.541886e+07</td>\n",
       "      <td>5.922820e+06</td>\n",
       "      <td>1.841916e+07</td>\n",
       "      <td>2.082760e+07</td>\n",
       "      <td>6.886240e+06</td>\n",
       "    </tr>\n",
       "    <tr>\n",
       "      <th>63</th>\n",
       "      <td>4.999168e+07</td>\n",
       "      <td>6.746167e+06</td>\n",
       "      <td>1.930946e+07</td>\n",
       "      <td>2.287784e+07</td>\n",
       "      <td>6.510666e+06</td>\n",
       "    </tr>\n",
       "    <tr>\n",
       "      <th>64</th>\n",
       "      <td>5.015035e+07</td>\n",
       "      <td>6.667330e+06</td>\n",
       "      <td>2.012112e+07</td>\n",
       "      <td>2.284153e+07</td>\n",
       "      <td>6.314109e+06</td>\n",
       "    </tr>\n",
       "  </tbody>\n",
       "</table>\n",
       "<p>65 rows × 5 columns</p>\n",
       "</div>"
      ],
      "text/plain": [
       "         almacen     panaderia       lacteos        carnes  \\\n",
       "0   6.705475e+06  9.459063e+05  2.880656e+06  2.606193e+06   \n",
       "1   6.576625e+06  9.256186e+05  2.855640e+06  2.600084e+06   \n",
       "2   7.437264e+06  1.016148e+06  3.188259e+06  2.824977e+06   \n",
       "3   8.211244e+06  1.132396e+06  3.257140e+06  3.006159e+06   \n",
       "4   7.651058e+06  1.033082e+06  3.232636e+06  2.799142e+06   \n",
       "..           ...           ...           ...           ...   \n",
       "60  3.750517e+07  4.860318e+06  1.610477e+07  1.740849e+07   \n",
       "61  3.820979e+07  5.045920e+06  1.613982e+07  1.826074e+07   \n",
       "62  4.541886e+07  5.922820e+06  1.841916e+07  2.082760e+07   \n",
       "63  4.999168e+07  6.746167e+06  1.930946e+07  2.287784e+07   \n",
       "64  5.015035e+07  6.667330e+06  2.012112e+07  2.284153e+07   \n",
       "\n",
       "    verduleria_fruteria  \n",
       "0          1.050314e+06  \n",
       "1          1.026167e+06  \n",
       "2          1.075526e+06  \n",
       "3          1.037213e+06  \n",
       "4          9.826512e+05  \n",
       "..                  ...  \n",
       "60         6.138441e+06  \n",
       "61         6.436028e+06  \n",
       "62         6.886240e+06  \n",
       "63         6.510666e+06  \n",
       "64         6.314109e+06  \n",
       "\n",
       "[65 rows x 5 columns]"
      ]
     },
     "execution_count": 49,
     "metadata": {},
     "output_type": "execute_result"
    }
   ],
   "source": [
    "#filtro por columnas\n",
    "#filtro3= df.iloc[: , [1:3]]        #Columnas consecutivas\n",
    "filtro3= data.iloc[ : , [14,15,16,17,18]]      #Columnas no consecutivas\n",
    "filtro3"
   ]
  },
  {
   "cell_type": "code",
   "execution_count": 3,
   "metadata": {},
   "outputs": [
    {
     "data": {
      "text/plain": [
       "indice_tiempo                           0\n",
       "ventas_precios_corrientes               0\n",
       "ventas_precios_constantes               0\n",
       "ventas_totales_canal_venta              0\n",
       "salon_ventas                            6\n",
       "canales_on_line                         0\n",
       "ventas_totales_medio_pago               0\n",
       "efectivo                                0\n",
       "tarjetas_debito                         1\n",
       "tarjetas_credito                        7\n",
       "otros_medios                            1\n",
       "ventas_totales_grupo_articulos          0\n",
       "subtotal_ventas_alimentos_bebidas      10\n",
       "bebidas                                 1\n",
       "almacen                                 2\n",
       "panaderia                               1\n",
       "lacteos                                 1\n",
       "carnes                                  1\n",
       "verduleria_fruteria                     1\n",
       "alimentos_preparados_rotiseria          1\n",
       "articulos_limpieza_perfumeria           0\n",
       "indumentaria_calzado_textiles_hogar     2\n",
       "electronicos_articulos_hogar            3\n",
       "otros                                   4\n",
       "dtype: int64"
      ]
     },
     "execution_count": 3,
     "metadata": {},
     "output_type": "execute_result"
    }
   ],
   "source": [
    "#Identificar valores nulos por columnas\n",
    "valores_nulos=data.isnull().sum()\n",
    "valores_nulos"
   ]
  },
  {
   "cell_type": "code",
   "execution_count": 5,
   "metadata": {},
   "outputs": [],
   "source": [
    "#Realizamos una copia del dataframe\n",
    "data2= data.copy()"
   ]
  },
  {
   "cell_type": "code",
   "execution_count": 8,
   "metadata": {},
   "outputs": [],
   "source": [
    "#Sustituir valores nulos de la variable \"salon_ventas\" con promedio o media\n",
    "data2[\"salon_ventas\"]=data2[\"salon_ventas\"].fillna(round(data[\"salon_ventas\"].mean(),1))\n"
   ]
  },
  {
   "cell_type": "code",
   "execution_count": 13,
   "metadata": {},
   "outputs": [],
   "source": [
    "#Sustituir valores nulos de la variable \"tarjetas_debito\" con mediana.\n",
    "data2[\"tarjetas_debito\"]=data2[\"tarjetas_debito\"].fillna(round(data[\"tarjetas_debito\"].median(),1))\n"
   ]
  },
  {
   "cell_type": "code",
   "execution_count": 15,
   "metadata": {},
   "outputs": [],
   "source": [
    "#Sustituir valores nulos de la variable \"tarjetas_credito\" con mediana.\n",
    "data2[\"tarjetas_credito\"]=data2[\"tarjetas_credito\"].fillna(round(data[\"tarjetas_credito\"].median(),1))\n"
   ]
  },
  {
   "cell_type": "code",
   "execution_count": 41,
   "metadata": {},
   "outputs": [],
   "source": [
    "#Sustiruir valores nulos de la variable \"otros_medios\" por el valor numérico 0\n",
    "data2[\"otros_medios\"]= data2[\"otros_medios\"].fillna(0)\n"
   ]
  },
  {
   "cell_type": "code",
   "execution_count": 45,
   "metadata": {},
   "outputs": [],
   "source": [
    "#Sustituir valores nulos de la variable \"subtotal_ventas_alimentos_bebidas\" con promedio o media.\n",
    "data2[\"subtotal_ventas_alimentos_bebidas\"]=data2[\"subtotal_ventas_alimentos_bebidas\"].fillna(round(data[\"subtotal_ventas_alimentos_bebidas\"].mean(),1))\n"
   ]
  },
  {
   "cell_type": "code",
   "execution_count": 47,
   "metadata": {},
   "outputs": [
    {
     "name": "stderr",
     "output_type": "stream",
     "text": [
      "C:\\Users\\MaFer\\AppData\\Local\\Temp\\ipykernel_13048\\1881197508.py:2: FutureWarning: Series.fillna with 'method' is deprecated and will raise in a future version. Use obj.ffill() or obj.bfill() instead.\n",
      "  data2[\"bebidas\"]= data2[\"bebidas\"].fillna(method =\"ffill\")\n"
     ]
    }
   ],
   "source": [
    "#Sustiruir valores nulos de la variable \"bebidas\" por valores no nulos hacia adelante \"forward fill\" (\"ffill\")\n",
    "data2[\"bebidas\"]= data2[\"bebidas\"].fillna(method =\"ffill\")\n"
   ]
  },
  {
   "cell_type": "code",
   "execution_count": 50,
   "metadata": {},
   "outputs": [],
   "source": [
    "#Sustiruir valores nulos de la variable \"almacen\" por el valor numérico 0\n",
    "data2[\"almacen\"]= data2[\"almacen\"].fillna(0)"
   ]
  },
  {
   "cell_type": "code",
   "execution_count": 52,
   "metadata": {},
   "outputs": [
    {
     "name": "stderr",
     "output_type": "stream",
     "text": [
      "C:\\Users\\MaFer\\AppData\\Local\\Temp\\ipykernel_13048\\1687613953.py:2: FutureWarning: Series.fillna with 'method' is deprecated and will raise in a future version. Use obj.ffill() or obj.bfill() instead.\n",
      "  data2[\"panaderia\"]= data2[\"panaderia\"].fillna(method =\"bfill\")\n"
     ]
    }
   ],
   "source": [
    "#Sustiruir valores nulos de la variable \"panaderia\" por valores no nulos haciaatrás \"backward fill\" (\"bfill\")\n",
    "data2[\"panaderia\"]= data2[\"panaderia\"].fillna(method =\"bfill\")\n"
   ]
  },
  {
   "cell_type": "code",
   "execution_count": 53,
   "metadata": {},
   "outputs": [
    {
     "name": "stderr",
     "output_type": "stream",
     "text": [
      "C:\\Users\\MaFer\\AppData\\Local\\Temp\\ipykernel_13048\\1479499705.py:2: FutureWarning: Series.fillna with 'method' is deprecated and will raise in a future version. Use obj.ffill() or obj.bfill() instead.\n",
      "  data2[\"lacteos\"]= data2[\"lacteos\"].fillna(method =\"ffill\")\n"
     ]
    }
   ],
   "source": [
    "#Sustiruir valores nulos de la variable \"lacteos\" por valores no nulos hacia adelante \"forward fill\" (\"ffill\")\n",
    "data2[\"lacteos\"]= data2[\"lacteos\"].fillna(method =\"ffill\")\n"
   ]
  },
  {
   "cell_type": "code",
   "execution_count": 55,
   "metadata": {},
   "outputs": [],
   "source": [
    "#Sustituir valores nulos de la variable \"carnes\" con promedio o media\n",
    "data2[\"carnes\"]=data2[\"carnes\"].fillna(round(data[\"carnes\"].mean(),1))\n"
   ]
  },
  {
   "cell_type": "code",
   "execution_count": 57,
   "metadata": {},
   "outputs": [],
   "source": [
    "#Sustituir valores nulos de la variable \"verduleria_fruteria\" con mediana.\n",
    "data2[\"verduleria_fruteria\"]=data2[\"verduleria_fruteria\"].fillna(round(data[\"verduleria_fruteria\"].median(),1))\n"
   ]
  },
  {
   "cell_type": "code",
   "execution_count": 59,
   "metadata": {},
   "outputs": [
    {
     "name": "stderr",
     "output_type": "stream",
     "text": [
      "C:\\Users\\MaFer\\AppData\\Local\\Temp\\ipykernel_13048\\3647360840.py:2: FutureWarning: Series.fillna with 'method' is deprecated and will raise in a future version. Use obj.ffill() or obj.bfill() instead.\n",
      "  data2[\"alimentos_preparados_rotiseria\"]= data2[\"alimentos_preparados_rotiseria\"].fillna(method =\"ffill\")\n"
     ]
    }
   ],
   "source": [
    "#Sustiruir valores nulos de la variable \"alimentos_preparados_rotiseria\" por valores no nulos hacia adelante \"forward fill\" (\"ffill\")\n",
    "data2[\"alimentos_preparados_rotiseria\"]= data2[\"alimentos_preparados_rotiseria\"].fillna(method =\"ffill\")"
   ]
  },
  {
   "cell_type": "code",
   "execution_count": null,
   "metadata": {},
   "outputs": [
    {
     "name": "stderr",
     "output_type": "stream",
     "text": [
      "C:\\Users\\MaFer\\AppData\\Local\\Temp\\ipykernel_13048\\46906727.py:2: FutureWarning: Series.fillna with 'method' is deprecated and will raise in a future version. Use obj.ffill() or obj.bfill() instead.\n",
      "  data2[\"indumentaria_calzado_textiles_hogar\"]= data2[\"indumentaria_calzado_textiles_hogar\"].fillna(method =\"bfill\")\n"
     ]
    }
   ],
   "source": [
    "#Sustiruir valores nulos de la variable \"indumentaria_calzado_textiles_hogar\" por valores no nulos haciaatrás \"backward fill\" (\"bfill\")\n",
    "data2[\"indumentaria_calzado_textiles_hogar\"]= data2[\"indumentaria_calzado_textiles_hogar\"].fillna(method =\"bfill\")\n"
   ]
  },
  {
   "cell_type": "code",
   "execution_count": 64,
   "metadata": {},
   "outputs": [],
   "source": [
    "#Sustituir valores nulos de la variable \"electronicos_articulos_hogar \" con mediana.\n",
    "data2[\"electronicos_articulos_hogar\"]=data2[\"electronicos_articulos_hogar\"].fillna(round(data[\"electronicos_articulos_hogar\"].median(),1))\n"
   ]
  },
  {
   "cell_type": "code",
   "execution_count": 65,
   "metadata": {},
   "outputs": [],
   "source": [
    "#Sustituir valores nulos de la variable \"otros\" con promedio o media\n",
    "data2[\"otros\"]=data2[\"otros\"].fillna(round(data[\"otros\"].mean(),1))"
   ]
  },
  {
   "cell_type": "code",
   "execution_count": 66,
   "metadata": {},
   "outputs": [
    {
     "data": {
      "text/plain": [
       "indice_tiempo                          0\n",
       "ventas_precios_corrientes              0\n",
       "ventas_precios_constantes              0\n",
       "ventas_totales_canal_venta             0\n",
       "salon_ventas                           0\n",
       "canales_on_line                        0\n",
       "ventas_totales_medio_pago              0\n",
       "efectivo                               0\n",
       "tarjetas_debito                        0\n",
       "tarjetas_credito                       0\n",
       "otros_medios                           0\n",
       "ventas_totales_grupo_articulos         0\n",
       "subtotal_ventas_alimentos_bebidas      0\n",
       "bebidas                                0\n",
       "almacen                                0\n",
       "panaderia                              0\n",
       "lacteos                                0\n",
       "carnes                                 0\n",
       "verduleria_fruteria                    0\n",
       "alimentos_preparados_rotiseria         0\n",
       "articulos_limpieza_perfumeria          0\n",
       "indumentaria_calzado_textiles_hogar    0\n",
       "electronicos_articulos_hogar           0\n",
       "otros                                  0\n",
       "dtype: int64"
      ]
     },
     "execution_count": 66,
     "metadata": {},
     "output_type": "execute_result"
    }
   ],
   "source": [
    "#Identificar valores nulos por columnas\n",
    "valores_nulos=data2.isnull().sum()\n",
    "valores_nulos"
   ]
  },
  {
   "cell_type": "code",
   "execution_count": 67,
   "metadata": {},
   "outputs": [],
   "source": [
    "#convertir Dataframe a csv\n",
    "data2.to_csv(\"ventas_sin_nulos.csv\")"
   ]
  }
 ],
 "metadata": {
  "kernelspec": {
   "display_name": "Python 3",
   "language": "python",
   "name": "python3"
  },
  "language_info": {
   "codemirror_mode": {
    "name": "ipython",
    "version": 3
   },
   "file_extension": ".py",
   "mimetype": "text/x-python",
   "name": "python",
   "nbconvert_exporter": "python",
   "pygments_lexer": "ipython3",
   "version": "3.12.8"
  }
 },
 "nbformat": 4,
 "nbformat_minor": 2
}
